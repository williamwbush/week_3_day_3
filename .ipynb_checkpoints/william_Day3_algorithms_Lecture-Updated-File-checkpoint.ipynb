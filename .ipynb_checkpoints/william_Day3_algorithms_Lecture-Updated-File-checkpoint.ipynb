{
 "cells": [
  {
   "cell_type": "markdown",
   "metadata": {},
   "source": [
    "# Classic Algorithms"
   ]
  },
  {
   "cell_type": "markdown",
   "metadata": {},
   "source": [
    "## Tasks Today:\n",
    " \n",
    "1) <b>In-Place Algorithms</b> <br>\n",
    " &nbsp;&nbsp;&nbsp;&nbsp; a) Syntax <br>\n",
    " &nbsp;&nbsp;&nbsp;&nbsp; a) Out of Place Algorithm <br>\n",
    " &nbsp;&nbsp;&nbsp;&nbsp; b) In-Class Exercise #1 <br>\n",
    "2) <b>Two Pointers</b> <br>\n",
    "3) <b>Sorting Algorithms</b> <br>\n",
    "4) <b>Merge Sort</b> <br>\n",
    " &nbsp;&nbsp;&nbsp;&nbsp; a) Video on Algorithms <br>\n",
    " &nbsp;&nbsp;&nbsp;&nbsp; b) How it Works <br>\n",
    "5) <b>Exercises</b> <br>\n",
    " &nbsp;&nbsp;&nbsp;&nbsp; a) Exercise #1 - Reverse a List in Place Using an In-Place Algorithm <br>\n",
    " &nbsp;&nbsp;&nbsp;&nbsp; b) Exercise #2 - Find Distinct Words <br>\n",
    " &nbsp;&nbsp;&nbsp;&nbsp; c) Exercise #3 - Write a program to implement a Linear Search Algorithm. <br>"
   ]
  },
  {
   "cell_type": "markdown",
   "metadata": {},
   "source": [
    "## Big-O complexity\n",
    "\n",
    "<p> O(1) constant, ideal run time </p>\n",
    "<p> o(log n) split input and reassemble </p>\n",
    "<p> o(n) linear time </p>\n",
    "<p> usually a tradeoff between speed and space</p>\n"
   ]
  },
  {
   "cell_type": "markdown",
   "metadata": {},
   "source": [
    "## In-Place Algorithms"
   ]
  },
  {
   "cell_type": "markdown",
   "metadata": {},
   "source": [
    "#### Syntax"
   ]
  },
  {
   "cell_type": "code",
   "execution_count": 3,
   "metadata": {},
   "outputs": [
    {
     "name": "stdout",
     "output_type": "stream",
     "text": [
      "Before swap: [20, 4, 10]\n",
      "After swap: [10, 4, 20]\n"
     ]
    }
   ],
   "source": [
    "# var[i], var[i + 1] = var[i + 1], var[i]\n",
    "# also known as a swap algorithm\n",
    "\n",
    "def swap(alist, x, y, z):\n",
    "    alist[x], alist[y], alist[z] =  alist[z], alist[y], alist[x]\n",
    "    return alist\n",
    "\n",
    "my_list = [20,4,10]\n",
    "print(f'Before swap: {my_list}')\n",
    "\n",
    "swap(my_list,0,1,2)\n",
    "\n",
    "print(f'After swap: {my_list}')"
   ]
  },
  {
   "cell_type": "markdown",
   "metadata": {},
   "source": [
    "#### Out of Place Algorithm"
   ]
  },
  {
   "cell_type": "code",
   "execution_count": 4,
   "metadata": {},
   "outputs": [
    {
     "name": "stdout",
     "output_type": "stream",
     "text": [
      "[20, 4, 10]\n",
      "BEFORE SWAP: ['a', 'b', 'c', 'd']\n",
      "AFTER Out of place Swap: ['d', 'c', 'b', 'a']\n"
     ]
    }
   ],
   "source": [
    "# not swapping IN-PLACE, rather reversing a copy of the list\n",
    "my_list_copy = my_list[::-1]\n",
    "print(my_list_copy)\n",
    "\n",
    "# long form OUT-OF-PLACE...\n",
    "list_a = ['a', 'b', 'c', 'd']\n",
    "new_list = ['a'] * len(list_a)\n",
    "\n",
    "print(f'BEFORE SWAP: {list_a}')\n",
    "\n",
    "length = len(list_a) - 1\n",
    "\n",
    "for i in range(length):\n",
    "    new_list[i] = list_a[length - i]\n",
    "    \n",
    "list_a = new_list\n",
    "print(f'AFTER Out of place Swap: {list_a}')\n"
   ]
  },
  {
   "cell_type": "markdown",
   "metadata": {},
   "source": [
    "#### In-Class Exercise #1 <br>\n",
    "<p>Write a function that takes in four arguments (list, index1, index2, index3), and swaps those three positions in the list passed in.</p>"
   ]
  },
  {
   "cell_type": "code",
   "execution_count": 7,
   "metadata": {},
   "outputs": [
    {
     "data": {
      "text/plain": [
       "[10, 2, 3, 8, 4, 4, 6]"
      ]
     },
     "execution_count": 7,
     "metadata": {},
     "output_type": "execute_result"
    }
   ],
   "source": [
    "l_1 = [10, 4, 3, 8, 4, 2, 6]\n",
    "\n",
    "def swap(lst, a, b, c):\n",
    "    lst[a], lst[b], lst[c] = lst[c], lst[b], lst[a]\n",
    "    return lst\n",
    "\n",
    "swap(l_1,1,3,5)"
   ]
  },
  {
   "cell_type": "markdown",
   "metadata": {},
   "source": [
    "## Two Pointers"
   ]
  },
  {
   "cell_type": "markdown",
   "metadata": {},
   "source": [
    "#### Syntax"
   ]
  },
  {
   "cell_type": "code",
   "execution_count": 10,
   "metadata": {},
   "outputs": [
    {
     "name": "stdout",
     "output_type": "stream",
     "text": [
      "Before swap: [1, 2, 3, 12, 9, 8, 11, 22]\n",
      "After swap: [22, 11, 8, 9, 12, 3, 2, 1]\n"
     ]
    }
   ],
   "source": [
    "# using two pointers to swap info, can use a while loop for most cases\n",
    "\n",
    "def twoPointers(alist):\n",
    "    # Creating pointers for list below\n",
    "    left = 0 # first position in list\n",
    "    right = len(alist) - 1 # last position in list\n",
    "    while left <= right:\n",
    "        alist[left], alist[right] = alist[right], alist[left]\n",
    "        left += 1\n",
    "        right -= 1\n",
    "    return alist\n",
    "\n",
    "my_list2 = [1,2,3,12,9,8,11,22]\n",
    "\n",
    "print(f'Before swap: {my_list2}')\n",
    "\n",
    "twoPointers(my_list2)\n",
    "\n",
    "print(f'After swap: {my_list2}')"
   ]
  },
  {
   "cell_type": "markdown",
   "metadata": {},
   "source": [
    "#### Video of Algorithms <br>\n",
    "<p>Watch the video about algorithms.</p>\n",
    "\n",
    "https://www.youtube.com/watch?v=Q9HjeFD62Uk\n",
    "\n",
    "https://www.youtube.com/watch?v=kPRA0W1kECg\n",
    "\n",
    "https://www.youtube.com/watch?v=ZZuD6iUe3Pc"
   ]
  },
  {
   "cell_type": "markdown",
   "metadata": {},
   "source": [
    "# Sorting Algorithms"
   ]
  },
  {
   "cell_type": "code",
   "execution_count": null,
   "metadata": {},
   "outputs": [],
   "source": []
  },
  {
   "cell_type": "markdown",
   "metadata": {},
   "source": [
    "#### Bubble Sort\n",
    "\n",
    "Worst Case: O(n^2) Time - O(1) Space"
   ]
  },
  {
   "cell_type": "code",
   "execution_count": 11,
   "metadata": {},
   "outputs": [
    {
     "data": {
      "text/plain": [
       "[1, 22, 34, 44, 55, 66, 88, 100]"
      ]
     },
     "execution_count": 11,
     "metadata": {},
     "output_type": "execute_result"
    }
   ],
   "source": [
    "# best case: O(n) -- linear\n",
    "\n",
    "def swap(i, j, alist):\n",
    "    alist[i], alist[j] = alist[j], alist[i]\n",
    "    \n",
    "def bubbleSort(alist):\n",
    "    isSorted = False\n",
    "    while not isSorted:\n",
    "        isSorted = True\n",
    "        for num in range(len(alist) - 1):\n",
    "            if alist[num] > alist[num + 1]:\n",
    "                swap(num, num + 1, alist)\n",
    "                isSorted = False\n",
    "    return alist\n",
    "\n",
    "bubbleSort([22,55,88,44,1,100,34,66])\n",
    "\n"
   ]
  },
  {
   "cell_type": "markdown",
   "metadata": {},
   "source": [
    "##### Insertion Sort\n",
    "\n",
    "Worst Case: O(n^2) time - O(1)space"
   ]
  },
  {
   "cell_type": "code",
   "execution_count": 13,
   "metadata": {},
   "outputs": [
    {
     "data": {
      "text/plain": [
       "[1, 22, 34, 44, 55, 66, 88, 100]"
      ]
     },
     "execution_count": 13,
     "metadata": {},
     "output_type": "execute_result"
    }
   ],
   "source": [
    "def swap(i, j, alist):\n",
    "    alist[i], alist[j] = alist[j], alist[i]\n",
    "    \n",
    "def insertionSort(alist):\n",
    "    for i in range(1, len(alist)):\n",
    "        j = i\n",
    "        while j > 0 and alist[j] < alist[j-1]:\n",
    "            swap(j, j - 1, alist)\n",
    "            j -= 1\n",
    "    return alist\n",
    "\n",
    "insertionSort([22,55,88,44,1,100,34,66])"
   ]
  },
  {
   "cell_type": "markdown",
   "metadata": {},
   "source": [
    "## Merge Sort"
   ]
  },
  {
   "cell_type": "markdown",
   "metadata": {},
   "source": [
    "#### How it Works"
   ]
  },
  {
   "cell_type": "code",
   "execution_count": 23,
   "metadata": {},
   "outputs": [
    {
     "name": "stdout",
     "output_type": "stream",
     "text": [
      "Splitting...: [0, 0, 1, 0, 0, 1, 1, 0, 1, 1]\n",
      "Splitting...: [0, 0, 1, 0, 0]\n",
      "Splitting...: [0, 0]\n",
      "Splitting...: [0]\n",
      "Merging: [0]\n",
      "Splitting...: [0]\n",
      "Merging: [0]\n",
      "Merging: [0, 0]\n",
      "Splitting...: [1, 0, 0]\n",
      "Splitting...: [1]\n",
      "Merging: [1]\n",
      "Splitting...: [0, 0]\n",
      "Splitting...: [0]\n",
      "Merging: [0]\n",
      "Splitting...: [0]\n",
      "Merging: [0]\n",
      "Merging: [0, 0]\n",
      "Merging: [0, 0, 1]\n",
      "Merging: [0, 0, 0, 0, 1]\n",
      "Splitting...: [1, 1, 0, 1, 1]\n",
      "Splitting...: [1, 1]\n",
      "Splitting...: [1]\n",
      "Merging: [1]\n",
      "Splitting...: [1]\n",
      "Merging: [1]\n",
      "Merging: [1, 1]\n",
      "Splitting...: [0, 1, 1]\n",
      "Splitting...: [0]\n",
      "Merging: [0]\n",
      "Splitting...: [1, 1]\n",
      "Splitting...: [1]\n",
      "Merging: [1]\n",
      "Splitting...: [1]\n",
      "Merging: [1]\n",
      "Merging: [1, 1]\n",
      "Merging: [0, 1, 1]\n",
      "Merging: [0, 1, 1, 1, 1]\n",
      "Merging: [0, 0, 0, 0, 0, 1, 1, 1, 1, 1]\n"
     ]
    },
    {
     "data": {
      "text/plain": [
       "[0, 0, 0, 0, 0, 1, 1, 1, 1, 1]"
      ]
     },
     "execution_count": 23,
     "metadata": {},
     "output_type": "execute_result"
    }
   ],
   "source": [
    "# Step 1: Select the entire list -- then split the list into groups\n",
    "# Step 2: From left to right, merge the two groups together\n",
    "# Step 3: While merging, place each item in the correct position within the merged groups\n",
    "# Step 4: Continue steps 3 and 4 until one single group is left\n",
    "\n",
    "from random import randint\n",
    "\n",
    "nums = [randint(0,1) for i in range(10)]\n",
    "another_list = [22,55,88,44,1,100,34,66]\n",
    "\n",
    "def mergeSort(alist):\n",
    "    print(f'Splitting...: {alist}')\n",
    "    \n",
    "    if len(alist) > 1:\n",
    "        mid = len(alist) // 2\n",
    "        lefthalf = alist[:mid]\n",
    "        righthalf = alist[mid:]\n",
    "        \n",
    "        # recursively call mergesort to perfrom splits and merges as needed\n",
    "        mergeSort(lefthalf)\n",
    "        mergeSort(righthalf)\n",
    "        \n",
    "        # set index pointers for our list\n",
    "        i = 0 # pointer for the left half\n",
    "        j = 0 # pointer for the right half\n",
    "        k = 0 # pointer for the main array/list\n",
    "        \n",
    "        # Step 2: Compare the left half and right half\n",
    "        while i < len(lefthalf) and j < len(righthalf):\n",
    "            if lefthalf[i] < righthalf[j]:\n",
    "                alist[k] = lefthalf[i]\n",
    "                i += 1\n",
    "            else:\n",
    "                alist[k] = righthalf[j]\n",
    "                j += 1\n",
    "            k += 1\n",
    "        while i < len(lefthalf):\n",
    "            alist[k] = lefthalf[i]\n",
    "            i += 1\n",
    "            k += 1\n",
    "        while j < len(righthalf):\n",
    "            alist[k] = righthalf[j]\n",
    "            j += 1\n",
    "            k += 1\n",
    "    print(f'Merging: {alist}')\n",
    "    return alist\n",
    "\n",
    "mergeSort(nums)"
   ]
  },
  {
   "cell_type": "markdown",
   "metadata": {},
   "source": [
    "# Binary Search\n",
    "\n",
    "The Binary Search algorithm works by finding the number in the middle of a given array and comparing it to the target. Given that the array is sorted\n",
    "\n",
    "* The worst case run time for this algorithm is `O(log(n))`"
   ]
  },
  {
   "cell_type": "code",
   "execution_count": 30,
   "metadata": {},
   "outputs": [
    {
     "data": {
      "text/plain": [
       "'The index is ...: 1'"
      ]
     },
     "execution_count": 30,
     "metadata": {},
     "output_type": "execute_result"
    }
   ],
   "source": [
    "# less == left\n",
    "# greater == right\n",
    "# list of number MUST be sorted\n",
    "\n",
    "def binarySearchHelperFunction(alist, target, left, right):\n",
    "    while left <= right:\n",
    "        middle = (left + right) // 2\n",
    "        potentialMatch = alist[middle]\n",
    "        if target == potentialMatch:\n",
    "            return f'The index is ...: {middle}'\n",
    "        elif target < potentialMatch:\n",
    "            right = middle - 1\n",
    "        else:\n",
    "            left = middle + 1\n",
    "    return -1\n",
    "\n",
    "def binarySearch(alist, target):\n",
    "    return binarySearchHelperFunction(alist,target,0,len(alist) - 1)\n",
    "\n",
    "binarySearch([22,44,55,66,88,100], 44)"
   ]
  },
  {
   "cell_type": "markdown",
   "metadata": {},
   "source": [
    "# Exercises"
   ]
  },
  {
   "cell_type": "markdown",
   "metadata": {},
   "source": [
    "### Exercise #1 <br>\n",
    "<p>Reverse the list below in-place using an in-place algorithm.<br>For extra credit: Reverse the strings at the same time.</p>"
   ]
  },
  {
   "cell_type": "code",
   "execution_count": 42,
   "metadata": {},
   "outputs": [
    {
     "name": "stdout",
     "output_type": "stream",
     "text": [
      "['.', 'ecnetnes', 'a', 'si', 'siht']\n"
     ]
    }
   ],
   "source": [
    "words = ['this' , 'is', 'a', 'sentence', '.']\n",
    "\n",
    "def reverse(alist,a,b,c,d,e):\n",
    "    alist[a], alist[b], alist[c], alist[d], alist[e] = \\\n",
    "    alist[e][::-1], alist[d][::-1], alist[c][::-1], alist[b][::-1], alist[a][::-1]\n",
    "    print(alist)\n",
    "reverse(words,0,1,2,3,4)"
   ]
  },
  {
   "cell_type": "markdown",
   "metadata": {},
   "source": [
    "### Exercise #2 <br>\n",
    "<p>Create a function that counts how many distinct words are in the string below, then outputs a dictionary with the words as the key and the value as the amount of times that word appears in the string.<br>Should output:<br>{'a': 5,<br>\n",
    " 'abstract': 1,<br>\n",
    " 'an': 3,<br>\n",
    " 'array': 2, ... etc...</p>"
   ]
  },
  {
   "cell_type": "code",
   "execution_count": 1,
   "metadata": {},
   "outputs": [
    {
     "name": "stdout",
     "output_type": "stream",
     "text": [
      "{'in': 1, 'computing,': 1, 'a': 5, 'hash': 4, 'table': 2, 'map': 2, 'is': 1, 'data': 2, 'structure': 2, 'which': 2, 'implements': 1, 'an': 3, 'associative': 1, 'array': 2, 'abstract': 1, 'type,': 1, 'that': 1, 'can': 2, 'keys': 1, 'to': 2, 'values.': 1, 'uses': 1, 'function': 1, 'compute': 1, 'index': 1, 'into': 1, 'of': 1, 'buckets': 1, 'or': 1, 'slots': 1, 'from': 1, 'the': 1, 'desired': 1, 'value': 1, 'be': 1, 'found': 1}\n"
     ]
    }
   ],
   "source": [
    "a_text = 'In computing, a hash table hash map is a data structure which implements an associative array abstract data type, a structure that can map keys to values. A hash table uses a hash function to compute an index into an array of buckets or slots from which the desired value can be found'\n",
    "\n",
    "def distinct(astring):\n",
    "    astring = astring.lower().split()\n",
    "    dict = {}\n",
    "    for word in astring:\n",
    "        dict[word] = astring.count(word)\n",
    "    print(dict)\n",
    "    \n",
    "distinct(a_text)\n"
   ]
  },
  {
   "cell_type": "markdown",
   "metadata": {},
   "source": [
    "## Exercise #3\n",
    "\n",
    "Write a program to implement a Linear Search Algorithm. Also in a comment, write the Time Complexity of the following algorithm.\n",
    "\n",
    "#### Hint: Linear Searching will require searching a list for a given number. "
   ]
  },
  {
   "cell_type": "code",
   "execution_count": 56,
   "metadata": {},
   "outputs": [
    {
     "data": {
      "text/plain": [
       "6"
      ]
     },
     "execution_count": 56,
     "metadata": {},
     "output_type": "execute_result"
    }
   ],
   "source": [
    "# A linear search algorithm has a time complexity between O(1) and O(n) depending on the location of a\n",
    "# searched value in a list--so on average, O(n/2).\n",
    "\n",
    "def linSearch(alist,x):\n",
    "    for i in range(len(alist)):\n",
    "        if alist[i] == x:\n",
    "            return i\n",
    "        \n",
    "alist = [1,2,4,8,16,32,64,128]\n",
    "linSearch(alist,64)"
   ]
  }
 ],
 "metadata": {
  "kernelspec": {
   "display_name": "Python 3",
   "language": "python",
   "name": "python3"
  },
  "language_info": {
   "codemirror_mode": {
    "name": "ipython",
    "version": 3
   },
   "file_extension": ".py",
   "mimetype": "text/x-python",
   "name": "python",
   "nbconvert_exporter": "python",
   "pygments_lexer": "ipython3",
   "version": "3.8.5"
  }
 },
 "nbformat": 4,
 "nbformat_minor": 2
}
